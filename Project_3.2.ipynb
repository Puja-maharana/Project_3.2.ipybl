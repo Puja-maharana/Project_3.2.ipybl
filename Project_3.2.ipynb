{
 "cells": [
  {
   "cell_type": "code",
   "execution_count": 1,
   "id": "e733f34c-ca4f-4694-a43b-43b645eeddb8",
   "metadata": {},
   "outputs": [],
   "source": [
    "#Q1. Create a python program to sort the given list of tuples based on integer value using a lambda function."
   ]
  },
  {
   "cell_type": "code",
   "execution_count": 2,
   "id": "4e6369ef-73a5-403d-ae47-963868436fd6",
   "metadata": {},
   "outputs": [],
   "source": [
    "#[('Asian', 3905), ('Russian', 2700), ('japanis', 534), ('amerikan', 2082)]"
   ]
  },
  {
   "cell_type": "code",
   "execution_count": 3,
   "id": "e64496f3-c54c-4ccf-981c-3822704ff71c",
   "metadata": {},
   "outputs": [],
   "source": [
    "l = [('Asian', 3905), ('Russian', 2700), ('japanis', 534), ('amerikan', 2082)]"
   ]
  },
  {
   "cell_type": "code",
   "execution_count": 4,
   "id": "cbdd9eab-e67a-41be-972c-4bf19dbfe6e4",
   "metadata": {},
   "outputs": [
    {
     "data": {
      "text/plain": [
       "[('Asian', 3905), ('Russian', 2700), ('japanis', 534), ('amerikan', 2082)]"
      ]
     },
     "execution_count": 4,
     "metadata": {},
     "output_type": "execute_result"
    }
   ],
   "source": [
    "l"
   ]
  },
  {
   "cell_type": "code",
   "execution_count": 6,
   "id": "9e55921c-1de7-4095-acaa-8a78198924ba",
   "metadata": {},
   "outputs": [
    {
     "name": "stdout",
     "output_type": "stream",
     "text": [
      "[('japanis', 534), ('amerikan', 2082), ('Russian', 2700), ('Asian', 3905)]\n"
     ]
    }
   ],
   "source": [
    "l.sort(key = lambda x : x[1])\n",
    "print(l)"
   ]
  },
  {
   "cell_type": "code",
   "execution_count": 12,
   "id": "087ffa02-cc48-47ed-ab90-e22f393ab8fd",
   "metadata": {},
   "outputs": [],
   "source": [
    "#Q2. Write a Python Program to find the squares of all the numbers in the given list of integers using lambda and map functions.\n",
    "\n",
    "# [1, 2, 3, 4, 5, 6, 7, 8, 9, 10]"
   ]
  },
  {
   "cell_type": "code",
   "execution_count": 13,
   "id": "7d318ab3-8443-4e29-93e0-bd2bdf9b4cf4",
   "metadata": {},
   "outputs": [],
   "source": [
    "l1= [1, 2, 3, 4, 5, 6, 7, 8, 9, 10]"
   ]
  },
  {
   "cell_type": "code",
   "execution_count": 14,
   "id": "dee4fd86-b047-45a9-bb6c-609f04b4a225",
   "metadata": {},
   "outputs": [
    {
     "data": {
      "text/plain": [
       "[1, 4, 9, 16, 25, 36, 49, 64, 81, 100]"
      ]
     },
     "execution_count": 14,
     "metadata": {},
     "output_type": "execute_result"
    }
   ],
   "source": [
    "list(map(lambda x : x**2,l1))"
   ]
  },
  {
   "cell_type": "code",
   "execution_count": 15,
   "id": "edb6d3ed-deb1-4d2c-a059-aac984355b15",
   "metadata": {},
   "outputs": [],
   "source": [
    "#Q3. Write a python program to convert the given list of integers into a tuple of strings. Use map and lambda functions\n",
    "\n",
    "#Given String: [1, 2, 3, 4, 5, 6, 7, 8, 9, 10]\n",
    "#Expected output: ('1', '2', '3', '4', '5', '6', '7', '8', '9', '10')"
   ]
  },
  {
   "cell_type": "code",
   "execution_count": 16,
   "id": "b276663e-680a-461e-bbe8-7fc74b2882a4",
   "metadata": {},
   "outputs": [],
   "source": [
    "l2 =  [1, 2, 3, 4, 5, 6, 7, 8, 9, 10]"
   ]
  },
  {
   "cell_type": "code",
   "execution_count": 17,
   "id": "5852470e-8cd4-435c-81dd-4e197db1fd80",
   "metadata": {},
   "outputs": [
    {
     "data": {
      "text/plain": [
       "['1', '2', '3', '4', '5', '6', '7', '8', '9', '10']"
      ]
     },
     "execution_count": 17,
     "metadata": {},
     "output_type": "execute_result"
    }
   ],
   "source": [
    "list(map(lambda x : str(x) , l2))"
   ]
  },
  {
   "cell_type": "code",
   "execution_count": 18,
   "id": "59771628-afc2-4028-8ef8-82eda74686b4",
   "metadata": {},
   "outputs": [],
   "source": [
    "#Q4. Write a python program using reduce function to compute the product of a list containing numbers from 1 to 25."
   ]
  },
  {
   "cell_type": "code",
   "execution_count": 19,
   "id": "d414d398-8452-4443-a381-7b5ef0356f7d",
   "metadata": {},
   "outputs": [],
   "source": [
    "l3 = list(range(1,26))"
   ]
  },
  {
   "cell_type": "code",
   "execution_count": 20,
   "id": "54b86c9c-d89d-4e70-bc41-d38951ed185f",
   "metadata": {},
   "outputs": [
    {
     "data": {
      "text/plain": [
       "[1,\n",
       " 2,\n",
       " 3,\n",
       " 4,\n",
       " 5,\n",
       " 6,\n",
       " 7,\n",
       " 8,\n",
       " 9,\n",
       " 10,\n",
       " 11,\n",
       " 12,\n",
       " 13,\n",
       " 14,\n",
       " 15,\n",
       " 16,\n",
       " 17,\n",
       " 18,\n",
       " 19,\n",
       " 20,\n",
       " 21,\n",
       " 22,\n",
       " 23,\n",
       " 24,\n",
       " 25]"
      ]
     },
     "execution_count": 20,
     "metadata": {},
     "output_type": "execute_result"
    }
   ],
   "source": [
    "l3"
   ]
  },
  {
   "cell_type": "code",
   "execution_count": 21,
   "id": "283c876a-4773-45b0-8d89-6777e32b4d42",
   "metadata": {},
   "outputs": [
    {
     "data": {
      "text/plain": [
       "15511210043330985984000000"
      ]
     },
     "execution_count": 21,
     "metadata": {},
     "output_type": "execute_result"
    }
   ],
   "source": [
    "#importing library for using reduce()\n",
    "from functools import reduce\n",
    "reduce(lambda x,y: x*y ,l3)"
   ]
  },
  {
   "cell_type": "code",
   "execution_count": 22,
   "id": "da9c5daa-42f4-4356-85ba-d4527d372d39",
   "metadata": {},
   "outputs": [],
   "source": [
    "# Q5. Write a python program to filter the numbers in a given list that are divisible by 2 and 3 using the filter function.\n",
    "\n",
    "#[2, 3, 6, 9, 27, 60, 90, 120, 55, 46]"
   ]
  },
  {
   "cell_type": "code",
   "execution_count": 23,
   "id": "fb48902a-478b-49a3-88f2-7cd783876926",
   "metadata": {},
   "outputs": [],
   "source": [
    "l4 = [2, 3, 6, 9, 27, 60, 90, 120, 55, 46]"
   ]
  },
  {
   "cell_type": "code",
   "execution_count": 24,
   "id": "0b2de8bb-1da2-4022-9695-af5ae7f88ae6",
   "metadata": {},
   "outputs": [
    {
     "data": {
      "text/plain": [
       "[6, 60, 90, 120]"
      ]
     },
     "execution_count": 24,
     "metadata": {},
     "output_type": "execute_result"
    }
   ],
   "source": [
    "list(filter(lambda x : x%2==0 and x%3==0,l4))"
   ]
  },
  {
   "cell_type": "code",
   "execution_count": 25,
   "id": "77842ebd-24e8-4705-8176-78f851b4934f",
   "metadata": {},
   "outputs": [],
   "source": [
    "#Q6. Write a python program to find palindromes in the given list of strings using lambda and filter function."
   ]
  },
  {
   "cell_type": "code",
   "execution_count": null,
   "id": "7b33c150-12ac-47d5-8ea2-4255beb408f8",
   "metadata": {},
   "outputs": [],
   "source": []
  }
 ],
 "metadata": {
  "kernelspec": {
   "display_name": "Python 3 (ipykernel)",
   "language": "python",
   "name": "python3"
  },
  "language_info": {
   "codemirror_mode": {
    "name": "ipython",
    "version": 3
   },
   "file_extension": ".py",
   "mimetype": "text/x-python",
   "name": "python",
   "nbconvert_exporter": "python",
   "pygments_lexer": "ipython3",
   "version": "3.10.8"
  }
 },
 "nbformat": 4,
 "nbformat_minor": 5
}
